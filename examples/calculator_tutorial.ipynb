{
 "cells": [
  {
   "cell_type": "markdown",
   "metadata": {},
   "source": [
    "### Lennard-Jones evolution (LJ5 with ASE calculator)\n",
    "\n",
    "Utilizing `ase.calculators.lj.LennardJones` an evolution of the LJ5 cluster is performed. Instead of enforcing position bounds as in the LJ example script, a simple approach is chosen:\n",
    "- randomly position 5 atoms in a cell\n",
    "- enlarge the cell ([100, 100, 100])\n",
    "- center the atoms within the cell"
   ]
  },
  {
   "cell_type": "code",
   "execution_count": 209,
   "metadata": {},
   "outputs": [],
   "source": [
    "from ase import Atoms\n",
    "from clinamen2.utils.structure_setup import place_atoms_random_cube\n",
    "\n",
    "positions = place_atoms_random_cube(\n",
    "    random_seed=0, n_atoms=5, side_length=3.0\n",
    ").reshape((-1, 3))\n",
    "\n",
    "atoms = Atoms(\n",
    "    \"5X\",\n",
    "    cell=[100.0, 100.0, 100.0],\n",
    "    pbc=False,\n",
    "    positions=[(pos[0], pos[1], pos[2]) for pos in positions],\n",
    ")\n",
    "atoms.center()\n",
    "\n",
    "founder_atoms = atoms.copy()"
   ]
  },
  {
   "cell_type": "markdown",
   "metadata": {},
   "source": [
    "The founder degrees of freedom (dof) are then the flattened atom positions. One atom is fixed to reduce the dof."
   ]
  },
  {
   "cell_type": "code",
   "execution_count": 210,
   "metadata": {},
   "outputs": [],
   "source": [
    "# the founder is simply the flattened positions\n",
    "def dof_from_atoms(atoms):\n",
    "    \"\"\"flatten the positions into an array\"\"\"\n",
    "\n",
    "    return atoms.get_positions().flatten()[3:]\n",
    "\n",
    "\n",
    "founder = dof_from_atoms(founder_atoms)"
   ]
  },
  {
   "cell_type": "markdown",
   "metadata": {},
   "source": [
    "Next, a closure is instantiated that can be passed to the algorithm for loss evaluation. This needs to create an atoms object and call the energy calculation (via the calculator object)."
   ]
  },
  {
   "cell_type": "code",
   "execution_count": 211,
   "metadata": {},
   "outputs": [],
   "source": [
    "import numpy as np\n",
    "\n",
    "from ase.calculators.lj import LennardJones\n",
    "\n",
    "from clinamen2.cmaes.params_and_state import (\n",
    "    create_sample_and_sequential_evaluate,\n",
    "    create_sample_from_state,\n",
    "    create_update_algorithm_state,\n",
    ")\n",
    "from clinamen2.utils.script_functions import cma_setup\n",
    "\n",
    "\n",
    "# we need a simple closure to\n",
    "#  - translate between the CMA and the ASE calculator\n",
    "#  - calculate the loss (LJ energy)\n",
    "def get_eval_closure(founder_atoms):\n",
    "    \"\"\"Return a closure for transformation and evaluation\"\"\"\n",
    "\n",
    "    calc = LennardJones()\n",
    "\n",
    "    def evaluate_dof(dof):\n",
    "        \"\"\"return the LJ energy\"\"\"\n",
    "\n",
    "        atoms = founder_atoms.copy()\n",
    "        atoms.positions[1:] = dof.reshape((-1, 3))  # 1st atom fixed\n",
    "        atoms.set_calculator(calc)\n",
    "\n",
    "        energy = atoms.get_potential_energy()\n",
    "\n",
    "        return energy\n",
    "\n",
    "    return evaluate_dof\n",
    "\n",
    "\n",
    "eval_closure = get_eval_closure(founder_atoms)\n",
    "\n",
    "# initialize AlgorithmParameters and AlgorithmState\n",
    "parameters, initial_state = cma_setup(mean=founder, step_size=0.5)\n",
    "\n",
    "# The closures can be created by passing the AlgorithmParameters to the respective functions.\n",
    "update_state = create_update_algorithm_state(parameters=parameters)\n",
    "sample_individuals = create_sample_from_state(parameters)\n",
    "\n",
    "sample_and_evaluate = create_sample_and_sequential_evaluate(\n",
    "    sample_individuals=sample_individuals,\n",
    "    evaluate_loss=eval_closure,\n",
    ")"
   ]
  },
  {
   "cell_type": "markdown",
   "metadata": {},
   "source": [
    "Perform an evolution over 1000 generations and print the resulting minimum energy."
   ]
  },
  {
   "cell_type": "code",
   "execution_count": 212,
   "metadata": {},
   "outputs": [
    {
     "name": "stderr",
     "output_type": "stream",
     "text": [
      "  0%|          | 3/1000 [00:00<00:35, 27.98it/s]"
     ]
    },
    {
     "name": "stderr",
     "output_type": "stream",
     "text": [
      "100%|██████████| 1000/1000 [00:16<00:00, 61.46it/s]"
     ]
    },
    {
     "name": "stdout",
     "output_type": "stream",
     "text": [
      "Loss -9.04905799826517 for individual 0 in generation 999.\n"
     ]
    },
    {
     "name": "stderr",
     "output_type": "stream",
     "text": [
      "\n"
     ]
    }
   ],
   "source": [
    "from tqdm.auto import tqdm\n",
    "\n",
    "state = initial_state\n",
    "for g in tqdm(range(1000)):\n",
    "    # perform one generation\n",
    "    generation, state, loss = sample_and_evaluate(state=state)\n",
    "    # to update the AlgorithmState pass in the sorted generation\n",
    "    state = update_state(state, generation[np.argsort(loss)])\n",
    "\n",
    "# print the minimum loss in the final generation\n",
    "print(\n",
    "    f\"Loss {loss.min()} for individual \" f\"{loss.argmin()} in generation {g}.\"\n",
    ")"
   ]
  },
  {
   "cell_type": "markdown",
   "metadata": {},
   "source": [
    "The result is a decent estimate of the pulished minimum for the LJ5, which is -9.103852. Visualized in a small cell."
   ]
  },
  {
   "cell_type": "code",
   "execution_count": 213,
   "metadata": {},
   "outputs": [
    {
     "data": {
      "text/plain": [
       "<Popen: returncode: None args: ['/home/rwanzenboeck/miniconda3/envs/c2resub/...>"
      ]
     },
     "execution_count": 213,
     "metadata": {},
     "output_type": "execute_result"
    }
   ],
   "source": [
    "result = founder_atoms.copy()\n",
    "result.positions[1:] = generation[loss.argmin()].reshape((-1, 3))\n",
    "result.set_cell([3, 3, 3], scale_atoms=False)\n",
    "result.center()\n",
    "\n",
    "from ase.visualize import view\n",
    "\n",
    "view(result)"
   ]
  }
 ],
 "metadata": {
  "kernelspec": {
   "display_name": "c2resub",
   "language": "python",
   "name": "python3"
  },
  "language_info": {
   "codemirror_mode": {
    "name": "ipython",
    "version": 3
   },
   "file_extension": ".py",
   "mimetype": "text/x-python",
   "name": "python",
   "nbconvert_exporter": "python",
   "pygments_lexer": "ipython3",
   "version": "3.10.13"
  }
 },
 "nbformat": 4,
 "nbformat_minor": 2
}
